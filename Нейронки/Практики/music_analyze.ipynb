{
 "cells": [
  {
   "cell_type": "markdown",
   "metadata": {},
   "source": [
    "# Анализ датасета"
   ]
  },
  {
   "cell_type": "code",
   "execution_count": 1,
   "metadata": {},
   "outputs": [],
   "source": [
    "from mutagen.flac import FLAC"
   ]
  },
  {
   "cell_type": "code",
   "execution_count": 2,
   "metadata": {},
   "outputs": [],
   "source": [
    "import os\n",
    "music_directory = 'D:\\\\music_dataset\\\\music_dataset'\n",
    "\n",
    "music_files = []\n",
    "for root, dirs, files in os.walk(music_directory):\n",
    "    for file in files:\n",
    "            if file.endswith('.flac'):\n",
    "                  music_files.append(os.path.join(music_directory, file))"
   ]
  },
  {
   "cell_type": "code",
   "execution_count": 3,
   "metadata": {},
   "outputs": [
    {
     "data": {
      "text/plain": [
       "509"
      ]
     },
     "execution_count": 3,
     "metadata": {},
     "output_type": "execute_result"
    }
   ],
   "source": [
    "len(music_files)"
   ]
  },
  {
   "cell_type": "code",
   "execution_count": 4,
   "metadata": {},
   "outputs": [],
   "source": [
    "import pandas as pd\n",
    "import numpy as np"
   ]
  },
  {
   "cell_type": "code",
   "execution_count": 5,
   "metadata": {},
   "outputs": [
    {
     "data": {
      "text/html": [
       "<div>\n",
       "<style scoped>\n",
       "    .dataframe tbody tr th:only-of-type {\n",
       "        vertical-align: middle;\n",
       "    }\n",
       "\n",
       "    .dataframe tbody tr th {\n",
       "        vertical-align: top;\n",
       "    }\n",
       "\n",
       "    .dataframe thead th {\n",
       "        text-align: right;\n",
       "    }\n",
       "</style>\n",
       "<table border=\"1\" class=\"dataframe\">\n",
       "  <thead>\n",
       "    <tr style=\"text-align: right;\">\n",
       "      <th></th>\n",
       "      <th>title</th>\n",
       "      <th>genre</th>\n",
       "      <th>artist</th>\n",
       "      <th>short_file</th>\n",
       "      <th>file</th>\n",
       "    </tr>\n",
       "  </thead>\n",
       "  <tbody>\n",
       "    <tr>\n",
       "      <th>0</th>\n",
       "      <td>Ain't My Bitch</td>\n",
       "      <td>Heavy Metal</td>\n",
       "      <td>Metallica</td>\n",
       "      <td>01 - Ain't My Bitch</td>\n",
       "      <td>D:\\music_dataset\\music_dataset\\01 - Ain't My B...</td>\n",
       "    </tr>\n",
       "    <tr>\n",
       "      <th>1</th>\n",
       "      <td>01 - Brown Sugar</td>\n",
       "      <td>Unknown</td>\n",
       "      <td>The Rolling Stones</td>\n",
       "      <td>01 - Brown Sugar</td>\n",
       "      <td>D:\\music_dataset\\music_dataset\\01 - Brown Suga...</td>\n",
       "    </tr>\n",
       "    <tr>\n",
       "      <th>2</th>\n",
       "      <td>Dani California</td>\n",
       "      <td>Rock</td>\n",
       "      <td>Red Hot Chili Peppers</td>\n",
       "      <td>01 - Dani California</td>\n",
       "      <td>D:\\music_dataset\\music_dataset\\01 - Dani Calif...</td>\n",
       "    </tr>\n",
       "    <tr>\n",
       "      <th>3</th>\n",
       "      <td>Desecration Smile</td>\n",
       "      <td>Rock</td>\n",
       "      <td>Red Hot Chili Peppers</td>\n",
       "      <td>01 - Desecration Smile</td>\n",
       "      <td>D:\\music_dataset\\music_dataset\\01 - Desecratio...</td>\n",
       "    </tr>\n",
       "    <tr>\n",
       "      <th>4</th>\n",
       "      <td>Fuel</td>\n",
       "      <td>Heavy Metal</td>\n",
       "      <td>Metallica</td>\n",
       "      <td>01 - Fuel</td>\n",
       "      <td>D:\\music_dataset\\music_dataset\\01 - Fuel.flac</td>\n",
       "    </tr>\n",
       "    <tr>\n",
       "      <th>5</th>\n",
       "      <td>Ghost Of Perdition</td>\n",
       "      <td>Unknown</td>\n",
       "      <td>Opeth</td>\n",
       "      <td>01 - Ghost Of Perdition</td>\n",
       "      <td>D:\\music_dataset\\music_dataset\\01 - Ghost Of P...</td>\n",
       "    </tr>\n",
       "    <tr>\n",
       "      <th>6</th>\n",
       "      <td>Gimme All Your Lovin'</td>\n",
       "      <td>Rock</td>\n",
       "      <td>ZZ Top</td>\n",
       "      <td>01 - Gimme All Your Lovin'</td>\n",
       "      <td>D:\\music_dataset\\music_dataset\\01 - Gimme All ...</td>\n",
       "    </tr>\n",
       "    <tr>\n",
       "      <th>7</th>\n",
       "      <td>Good Times Roll</td>\n",
       "      <td>New Wave</td>\n",
       "      <td>The Cars</td>\n",
       "      <td>01 - Good Times Roll</td>\n",
       "      <td>D:\\music_dataset\\music_dataset\\01 - Good Times...</td>\n",
       "    </tr>\n",
       "    <tr>\n",
       "      <th>8</th>\n",
       "      <td>Invitation</td>\n",
       "      <td>Acoustic Rock</td>\n",
       "      <td>Helloween</td>\n",
       "      <td>01 - Invitation</td>\n",
       "      <td>D:\\music_dataset\\music_dataset\\01 - Invitation...</td>\n",
       "    </tr>\n",
       "    <tr>\n",
       "      <th>9</th>\n",
       "      <td>Keep Your Eyes Peeled</td>\n",
       "      <td>Metal</td>\n",
       "      <td>Queens of the Stone Age</td>\n",
       "      <td>01 - Keep Your Eyes Peeled</td>\n",
       "      <td>D:\\music_dataset\\music_dataset\\01 - Keep Your ...</td>\n",
       "    </tr>\n",
       "    <tr>\n",
       "      <th>10</th>\n",
       "      <td>Loving You Sunday Morning</td>\n",
       "      <td>Hard Rock</td>\n",
       "      <td>Scorpions</td>\n",
       "      <td>01 - Loving You Sunday Morning</td>\n",
       "      <td>D:\\music_dataset\\music_dataset\\01 - Loving You...</td>\n",
       "    </tr>\n",
       "    <tr>\n",
       "      <th>11</th>\n",
       "      <td>Mellon Collie and the Infinite Sadness</td>\n",
       "      <td>Unknown</td>\n",
       "      <td>The Smashing Pumpkins</td>\n",
       "      <td>01 - Mellon Collie and the Infinite Sadness</td>\n",
       "      <td>D:\\music_dataset\\music_dataset\\01 - Mellon Col...</td>\n",
       "    </tr>\n",
       "    <tr>\n",
       "      <th>12</th>\n",
       "      <td>Enter Sandman</td>\n",
       "      <td>Rock</td>\n",
       "      <td>Metallica</td>\n",
       "      <td>01 - Metallica - Enter Sandman</td>\n",
       "      <td>D:\\music_dataset\\music_dataset\\01 - Metallica ...</td>\n",
       "    </tr>\n",
       "    <tr>\n",
       "      <th>13</th>\n",
       "      <td>Reckoning Day</td>\n",
       "      <td>Heavy Metal</td>\n",
       "      <td>Megadeth</td>\n",
       "      <td>01 - Reckoning Day</td>\n",
       "      <td>D:\\music_dataset\\music_dataset\\01 - Reckoning ...</td>\n",
       "    </tr>\n",
       "    <tr>\n",
       "      <th>14</th>\n",
       "      <td>Red Velvet Corridor</td>\n",
       "      <td>Alternative</td>\n",
       "      <td>Swans</td>\n",
       "      <td>01 - Red Velvet Corridor</td>\n",
       "      <td>D:\\music_dataset\\music_dataset\\01 - Red Velvet...</td>\n",
       "    </tr>\n",
       "  </tbody>\n",
       "</table>\n",
       "</div>"
      ],
      "text/plain": [
       "                                     title          genre  \\\n",
       "0                           Ain't My Bitch    Heavy Metal   \n",
       "1                         01 - Brown Sugar        Unknown   \n",
       "2                          Dani California           Rock   \n",
       "3                        Desecration Smile           Rock   \n",
       "4                                     Fuel    Heavy Metal   \n",
       "5                       Ghost Of Perdition        Unknown   \n",
       "6                    Gimme All Your Lovin'           Rock   \n",
       "7                          Good Times Roll       New Wave   \n",
       "8                               Invitation  Acoustic Rock   \n",
       "9                    Keep Your Eyes Peeled          Metal   \n",
       "10               Loving You Sunday Morning      Hard Rock   \n",
       "11  Mellon Collie and the Infinite Sadness        Unknown   \n",
       "12                           Enter Sandman           Rock   \n",
       "13                           Reckoning Day    Heavy Metal   \n",
       "14                     Red Velvet Corridor    Alternative   \n",
       "\n",
       "                     artist                                   short_file  \\\n",
       "0                 Metallica                          01 - Ain't My Bitch   \n",
       "1        The Rolling Stones                             01 - Brown Sugar   \n",
       "2     Red Hot Chili Peppers                         01 - Dani California   \n",
       "3     Red Hot Chili Peppers                       01 - Desecration Smile   \n",
       "4                 Metallica                                    01 - Fuel   \n",
       "5                     Opeth                      01 - Ghost Of Perdition   \n",
       "6                    ZZ Top                   01 - Gimme All Your Lovin'   \n",
       "7                  The Cars                         01 - Good Times Roll   \n",
       "8                 Helloween                              01 - Invitation   \n",
       "9   Queens of the Stone Age                   01 - Keep Your Eyes Peeled   \n",
       "10                Scorpions               01 - Loving You Sunday Morning   \n",
       "11    The Smashing Pumpkins  01 - Mellon Collie and the Infinite Sadness   \n",
       "12                Metallica               01 - Metallica - Enter Sandman   \n",
       "13                 Megadeth                           01 - Reckoning Day   \n",
       "14                    Swans                     01 - Red Velvet Corridor   \n",
       "\n",
       "                                                 file  \n",
       "0   D:\\music_dataset\\music_dataset\\01 - Ain't My B...  \n",
       "1   D:\\music_dataset\\music_dataset\\01 - Brown Suga...  \n",
       "2   D:\\music_dataset\\music_dataset\\01 - Dani Calif...  \n",
       "3   D:\\music_dataset\\music_dataset\\01 - Desecratio...  \n",
       "4       D:\\music_dataset\\music_dataset\\01 - Fuel.flac  \n",
       "5   D:\\music_dataset\\music_dataset\\01 - Ghost Of P...  \n",
       "6   D:\\music_dataset\\music_dataset\\01 - Gimme All ...  \n",
       "7   D:\\music_dataset\\music_dataset\\01 - Good Times...  \n",
       "8   D:\\music_dataset\\music_dataset\\01 - Invitation...  \n",
       "9   D:\\music_dataset\\music_dataset\\01 - Keep Your ...  \n",
       "10  D:\\music_dataset\\music_dataset\\01 - Loving You...  \n",
       "11  D:\\music_dataset\\music_dataset\\01 - Mellon Col...  \n",
       "12  D:\\music_dataset\\music_dataset\\01 - Metallica ...  \n",
       "13  D:\\music_dataset\\music_dataset\\01 - Reckoning ...  \n",
       "14  D:\\music_dataset\\music_dataset\\01 - Red Velvet...  "
      ]
     },
     "execution_count": 5,
     "metadata": {},
     "output_type": "execute_result"
    }
   ],
   "source": [
    "df = pd.DataFrame({'title': [FLAC(song).get('title', ['Unknown'])[0] for song in music_files],\n",
    "                    'genre': [FLAC(song).get('genre', ['Unknown'])[0] for song in music_files],\n",
    "                    'artist': [FLAC(song).get('artist', ['Unknown'])[0] for song in music_files],\n",
    "                    'short_file': [os.path.basename(song).removesuffix('.flac') for song in music_files],\n",
    "                    'file': [song for song in music_files]})\n",
    "df.loc[df['title'] == 'Unknown', 'title'] = df.loc[df['title'] == 'Unknown', 'file']\n",
    "df.head(15)"
   ]
  },
  {
   "cell_type": "code",
   "execution_count": 6,
   "metadata": {},
   "outputs": [
    {
     "data": {
      "text/plain": [
       "111"
      ]
     },
     "execution_count": 6,
     "metadata": {},
     "output_type": "execute_result"
    }
   ],
   "source": [
    "len(df[df['genre'] == 'Unknown'])"
   ]
  },
  {
   "cell_type": "code",
   "execution_count": 7,
   "metadata": {},
   "outputs": [
    {
     "data": {
      "text/html": [
       "<div>\n",
       "<style scoped>\n",
       "    .dataframe tbody tr th:only-of-type {\n",
       "        vertical-align: middle;\n",
       "    }\n",
       "\n",
       "    .dataframe tbody tr th {\n",
       "        vertical-align: top;\n",
       "    }\n",
       "\n",
       "    .dataframe thead th {\n",
       "        text-align: right;\n",
       "    }\n",
       "</style>\n",
       "<table border=\"1\" class=\"dataframe\">\n",
       "  <thead>\n",
       "    <tr style=\"text-align: right;\">\n",
       "      <th></th>\n",
       "      <th>title</th>\n",
       "      <th>genre</th>\n",
       "      <th>artist</th>\n",
       "      <th>short_file</th>\n",
       "      <th>file</th>\n",
       "    </tr>\n",
       "  </thead>\n",
       "  <tbody>\n",
       "    <tr>\n",
       "      <th>0</th>\n",
       "      <td>Ain't My Bitch</td>\n",
       "      <td>Heavy Metal</td>\n",
       "      <td>Metallica</td>\n",
       "      <td>01 - Ain't My Bitch</td>\n",
       "      <td>D:\\music_dataset\\music_dataset\\01 - Ain't My B...</td>\n",
       "    </tr>\n",
       "    <tr>\n",
       "      <th>2</th>\n",
       "      <td>Dani California</td>\n",
       "      <td>Rock</td>\n",
       "      <td>Red Hot Chili Peppers</td>\n",
       "      <td>01 - Dani California</td>\n",
       "      <td>D:\\music_dataset\\music_dataset\\01 - Dani Calif...</td>\n",
       "    </tr>\n",
       "    <tr>\n",
       "      <th>3</th>\n",
       "      <td>Desecration Smile</td>\n",
       "      <td>Rock</td>\n",
       "      <td>Red Hot Chili Peppers</td>\n",
       "      <td>01 - Desecration Smile</td>\n",
       "      <td>D:\\music_dataset\\music_dataset\\01 - Desecratio...</td>\n",
       "    </tr>\n",
       "    <tr>\n",
       "      <th>4</th>\n",
       "      <td>Fuel</td>\n",
       "      <td>Heavy Metal</td>\n",
       "      <td>Metallica</td>\n",
       "      <td>01 - Fuel</td>\n",
       "      <td>D:\\music_dataset\\music_dataset\\01 - Fuel.flac</td>\n",
       "    </tr>\n",
       "    <tr>\n",
       "      <th>6</th>\n",
       "      <td>Gimme All Your Lovin'</td>\n",
       "      <td>Rock</td>\n",
       "      <td>ZZ Top</td>\n",
       "      <td>01 - Gimme All Your Lovin'</td>\n",
       "      <td>D:\\music_dataset\\music_dataset\\01 - Gimme All ...</td>\n",
       "    </tr>\n",
       "    <tr>\n",
       "      <th>...</th>\n",
       "      <td>...</td>\n",
       "      <td>...</td>\n",
       "      <td>...</td>\n",
       "      <td>...</td>\n",
       "      <td>...</td>\n",
       "    </tr>\n",
       "    <tr>\n",
       "      <th>493</th>\n",
       "      <td>Powderfinger</td>\n",
       "      <td>Acoustic Rock</td>\n",
       "      <td>Neil Young</td>\n",
       "      <td>Neil Young - Rust Never Sleeps - 06 - Powderfi...</td>\n",
       "      <td>D:\\music_dataset\\music_dataset\\Neil Young - Ru...</td>\n",
       "    </tr>\n",
       "    <tr>\n",
       "      <th>494</th>\n",
       "      <td>Welfare Mothers</td>\n",
       "      <td>Acoustic Rock</td>\n",
       "      <td>Neil Young</td>\n",
       "      <td>Neil Young - Rust Never Sleeps - 07 - Welfare ...</td>\n",
       "      <td>D:\\music_dataset\\music_dataset\\Neil Young - Ru...</td>\n",
       "    </tr>\n",
       "    <tr>\n",
       "      <th>495</th>\n",
       "      <td>Sedan Delivery</td>\n",
       "      <td>Acoustic Rock</td>\n",
       "      <td>Neil Young</td>\n",
       "      <td>Neil Young - Rust Never Sleeps - 08 - Sedan De...</td>\n",
       "      <td>D:\\music_dataset\\music_dataset\\Neil Young - Ru...</td>\n",
       "    </tr>\n",
       "    <tr>\n",
       "      <th>496</th>\n",
       "      <td>Hey Hey, My My (Into the Black)</td>\n",
       "      <td>Acoustic Rock</td>\n",
       "      <td>Neil Young</td>\n",
       "      <td>Neil Young - Rust Never Sleeps - 09 - Hey Hey,...</td>\n",
       "      <td>D:\\music_dataset\\music_dataset\\Neil Young - Ru...</td>\n",
       "    </tr>\n",
       "    <tr>\n",
       "      <th>497</th>\n",
       "      <td>Plainsong</td>\n",
       "      <td>Alternative Rock</td>\n",
       "      <td>The Cure</td>\n",
       "      <td>The Cure_Disintegration_01_Plainsong</td>\n",
       "      <td>D:\\music_dataset\\music_dataset\\The Cure_Disint...</td>\n",
       "    </tr>\n",
       "  </tbody>\n",
       "</table>\n",
       "<p>390 rows × 5 columns</p>\n",
       "</div>"
      ],
      "text/plain": [
       "                               title             genre                 artist  \\\n",
       "0                     Ain't My Bitch       Heavy Metal              Metallica   \n",
       "2                    Dani California              Rock  Red Hot Chili Peppers   \n",
       "3                  Desecration Smile              Rock  Red Hot Chili Peppers   \n",
       "4                               Fuel       Heavy Metal              Metallica   \n",
       "6              Gimme All Your Lovin'              Rock                 ZZ Top   \n",
       "..                               ...               ...                    ...   \n",
       "493                     Powderfinger     Acoustic Rock             Neil Young   \n",
       "494                  Welfare Mothers     Acoustic Rock             Neil Young   \n",
       "495                   Sedan Delivery     Acoustic Rock             Neil Young   \n",
       "496  Hey Hey, My My (Into the Black)     Acoustic Rock             Neil Young   \n",
       "497                        Plainsong  Alternative Rock               The Cure   \n",
       "\n",
       "                                            short_file  \\\n",
       "0                                  01 - Ain't My Bitch   \n",
       "2                                 01 - Dani California   \n",
       "3                               01 - Desecration Smile   \n",
       "4                                            01 - Fuel   \n",
       "6                           01 - Gimme All Your Lovin'   \n",
       "..                                                 ...   \n",
       "493  Neil Young - Rust Never Sleeps - 06 - Powderfi...   \n",
       "494  Neil Young - Rust Never Sleeps - 07 - Welfare ...   \n",
       "495  Neil Young - Rust Never Sleeps - 08 - Sedan De...   \n",
       "496  Neil Young - Rust Never Sleeps - 09 - Hey Hey,...   \n",
       "497               The Cure_Disintegration_01_Plainsong   \n",
       "\n",
       "                                                  file  \n",
       "0    D:\\music_dataset\\music_dataset\\01 - Ain't My B...  \n",
       "2    D:\\music_dataset\\music_dataset\\01 - Dani Calif...  \n",
       "3    D:\\music_dataset\\music_dataset\\01 - Desecratio...  \n",
       "4        D:\\music_dataset\\music_dataset\\01 - Fuel.flac  \n",
       "6    D:\\music_dataset\\music_dataset\\01 - Gimme All ...  \n",
       "..                                                 ...  \n",
       "493  D:\\music_dataset\\music_dataset\\Neil Young - Ru...  \n",
       "494  D:\\music_dataset\\music_dataset\\Neil Young - Ru...  \n",
       "495  D:\\music_dataset\\music_dataset\\Neil Young - Ru...  \n",
       "496  D:\\music_dataset\\music_dataset\\Neil Young - Ru...  \n",
       "497  D:\\music_dataset\\music_dataset\\The Cure_Disint...  \n",
       "\n",
       "[390 rows x 5 columns]"
      ]
     },
     "execution_count": 7,
     "metadata": {},
     "output_type": "execute_result"
    }
   ],
   "source": [
    "df = df.loc[(df['genre'] != 'Unknown') & (df['genre'] != '')]\n",
    "df"
   ]
  },
  {
   "cell_type": "code",
   "execution_count": 8,
   "metadata": {},
   "outputs": [
    {
     "data": {
      "text/plain": [
       "array(['Heavy Metal', 'Rock', 'New Wave', 'Acoustic Rock', 'Metal',\n",
       "       'Hard Rock', 'Alternative', 'Progressive Rock', 'Stoner Rock',\n",
       "       'Disco', 'Singer-songwriter, Folk rock', 'Hip-Hop', 'Classic Rock',\n",
       "       'Death Metal', 'Post Rock, Experimental', 'Alternative Rock'],\n",
       "      dtype=object)"
      ]
     },
     "execution_count": 8,
     "metadata": {},
     "output_type": "execute_result"
    }
   ],
   "source": [
    "df['genre'].unique()"
   ]
  },
  {
   "cell_type": "code",
   "execution_count": 9,
   "metadata": {},
   "outputs": [
    {
     "data": {
      "text/plain": [
       "16"
      ]
     },
     "execution_count": 9,
     "metadata": {},
     "output_type": "execute_result"
    }
   ],
   "source": [
    "len(df['genre'].unique())"
   ]
  },
  {
   "cell_type": "code",
   "execution_count": 10,
   "metadata": {},
   "outputs": [
    {
     "data": {
      "text/plain": [
       "array([[0., 0., 0., ..., 0., 0., 0.],\n",
       "       [0., 0., 0., ..., 1., 0., 0.],\n",
       "       [0., 0., 0., ..., 1., 0., 0.],\n",
       "       ...,\n",
       "       [1., 0., 0., ..., 0., 0., 0.],\n",
       "       [1., 0., 0., ..., 0., 0., 0.],\n",
       "       [0., 0., 1., ..., 0., 0., 0.]])"
      ]
     },
     "execution_count": 10,
     "metadata": {},
     "output_type": "execute_result"
    }
   ],
   "source": [
    "from sklearn.preprocessing import OneHotEncoder\n",
    "enc = OneHotEncoder()\n",
    "enc.fit(df.loc[:, ['genre']])\n",
    "enc.transform(df.loc[:, ['genre']]).toarray()"
   ]
  },
  {
   "cell_type": "code",
   "execution_count": 11,
   "metadata": {},
   "outputs": [],
   "source": [
    "import librosa\n",
    "import matplotlib.pyplot as plt\n",
    "import librosa.display\n",
    "from tqdm import tqdm"
   ]
  },
  {
   "cell_type": "code",
   "execution_count": 12,
   "metadata": {},
   "outputs": [],
   "source": [
    "def load_audio_features(file_paths):\n",
    "    features = []\n",
    "    for file_path in tqdm(file_paths):\n",
    "        y, sr = librosa.load(file_path, sr=None)\n",
    "        mfcc = librosa.feature.mfcc(y=y, sr=sr, n_mfcc=13)\n",
    "        features.append(mfcc.T.flatten())\n",
    "    return features"
   ]
  },
  {
   "cell_type": "code",
   "execution_count": 13,
   "metadata": {},
   "outputs": [
    {
     "name": "stderr",
     "output_type": "stream",
     "text": [
      "  5%|▍         | 19/390 [00:23<06:44,  1.09s/it]d:\\grander-materials\\.venv\\Lib\\site-packages\\librosa\\feature\\spectral.py:2143: UserWarning: Empty filters detected in mel frequency basis. Some channels will produce empty responses. Try increasing your sampling rate (and fmax) or reducing n_mels.\n",
      "  mel_basis = filters.mel(sr=sr, n_fft=n_fft, **kwargs)\n",
      "100%|██████████| 390/390 [08:49<00:00,  1.36s/it]\n"
     ]
    }
   ],
   "source": [
    "flattened_features = load_audio_features(df['file'])\n",
    "\n",
    "\n",
    "min_length = min([len(f) for f in flattened_features])\n",
    "flattened_features = [f[:min_length] for f in flattened_features]"
   ]
  },
  {
   "cell_type": "code",
   "execution_count": 14,
   "metadata": {},
   "outputs": [],
   "source": [
    "df['audio'] = flattened_features"
   ]
  },
  {
   "cell_type": "code",
   "execution_count": 15,
   "metadata": {},
   "outputs": [
    {
     "data": {
      "text/html": [
       "<div>\n",
       "<style scoped>\n",
       "    .dataframe tbody tr th:only-of-type {\n",
       "        vertical-align: middle;\n",
       "    }\n",
       "\n",
       "    .dataframe tbody tr th {\n",
       "        vertical-align: top;\n",
       "    }\n",
       "\n",
       "    .dataframe thead th {\n",
       "        text-align: right;\n",
       "    }\n",
       "</style>\n",
       "<table border=\"1\" class=\"dataframe\">\n",
       "  <thead>\n",
       "    <tr style=\"text-align: right;\">\n",
       "      <th></th>\n",
       "      <th>title</th>\n",
       "      <th>genre</th>\n",
       "      <th>artist</th>\n",
       "      <th>short_file</th>\n",
       "      <th>file</th>\n",
       "      <th>audio</th>\n",
       "    </tr>\n",
       "  </thead>\n",
       "  <tbody>\n",
       "    <tr>\n",
       "      <th>0</th>\n",
       "      <td>Ain't My Bitch</td>\n",
       "      <td>Heavy Metal</td>\n",
       "      <td>Metallica</td>\n",
       "      <td>01 - Ain't My Bitch</td>\n",
       "      <td>D:\\music_dataset\\music_dataset\\01 - Ain't My B...</td>\n",
       "      <td>[-501.11377, 0.0, 0.0, 0.0, 0.0, 0.0, 0.0, 0.0...</td>\n",
       "    </tr>\n",
       "    <tr>\n",
       "      <th>2</th>\n",
       "      <td>Dani California</td>\n",
       "      <td>Rock</td>\n",
       "      <td>Red Hot Chili Peppers</td>\n",
       "      <td>01 - Dani California</td>\n",
       "      <td>D:\\music_dataset\\music_dataset\\01 - Dani Calif...</td>\n",
       "      <td>[-480.2727, 0.0, 0.0, 0.0, 0.0, 0.0, 0.0, 0.0,...</td>\n",
       "    </tr>\n",
       "    <tr>\n",
       "      <th>3</th>\n",
       "      <td>Desecration Smile</td>\n",
       "      <td>Rock</td>\n",
       "      <td>Red Hot Chili Peppers</td>\n",
       "      <td>01 - Desecration Smile</td>\n",
       "      <td>D:\\music_dataset\\music_dataset\\01 - Desecratio...</td>\n",
       "      <td>[-498.46283, 0.0, 0.0, 0.0, 0.0, 0.0, 0.0, 0.0...</td>\n",
       "    </tr>\n",
       "    <tr>\n",
       "      <th>4</th>\n",
       "      <td>Fuel</td>\n",
       "      <td>Heavy Metal</td>\n",
       "      <td>Metallica</td>\n",
       "      <td>01 - Fuel</td>\n",
       "      <td>D:\\music_dataset\\music_dataset\\01 - Fuel.flac</td>\n",
       "      <td>[-497.3915, 0.0, 0.0, 0.0, 0.0, 0.0, 0.0, 0.0,...</td>\n",
       "    </tr>\n",
       "    <tr>\n",
       "      <th>6</th>\n",
       "      <td>Gimme All Your Lovin'</td>\n",
       "      <td>Rock</td>\n",
       "      <td>ZZ Top</td>\n",
       "      <td>01 - Gimme All Your Lovin'</td>\n",
       "      <td>D:\\music_dataset\\music_dataset\\01 - Gimme All ...</td>\n",
       "      <td>[-578.5449, 0.0, 0.0, 0.0, 0.0, 0.0, 0.0, 0.0,...</td>\n",
       "    </tr>\n",
       "  </tbody>\n",
       "</table>\n",
       "</div>"
      ],
      "text/plain": [
       "                   title        genre                 artist  \\\n",
       "0         Ain't My Bitch  Heavy Metal              Metallica   \n",
       "2        Dani California         Rock  Red Hot Chili Peppers   \n",
       "3      Desecration Smile         Rock  Red Hot Chili Peppers   \n",
       "4                   Fuel  Heavy Metal              Metallica   \n",
       "6  Gimme All Your Lovin'         Rock                 ZZ Top   \n",
       "\n",
       "                   short_file  \\\n",
       "0         01 - Ain't My Bitch   \n",
       "2        01 - Dani California   \n",
       "3      01 - Desecration Smile   \n",
       "4                   01 - Fuel   \n",
       "6  01 - Gimme All Your Lovin'   \n",
       "\n",
       "                                                file  \\\n",
       "0  D:\\music_dataset\\music_dataset\\01 - Ain't My B...   \n",
       "2  D:\\music_dataset\\music_dataset\\01 - Dani Calif...   \n",
       "3  D:\\music_dataset\\music_dataset\\01 - Desecratio...   \n",
       "4      D:\\music_dataset\\music_dataset\\01 - Fuel.flac   \n",
       "6  D:\\music_dataset\\music_dataset\\01 - Gimme All ...   \n",
       "\n",
       "                                               audio  \n",
       "0  [-501.11377, 0.0, 0.0, 0.0, 0.0, 0.0, 0.0, 0.0...  \n",
       "2  [-480.2727, 0.0, 0.0, 0.0, 0.0, 0.0, 0.0, 0.0,...  \n",
       "3  [-498.46283, 0.0, 0.0, 0.0, 0.0, 0.0, 0.0, 0.0...  \n",
       "4  [-497.3915, 0.0, 0.0, 0.0, 0.0, 0.0, 0.0, 0.0,...  \n",
       "6  [-578.5449, 0.0, 0.0, 0.0, 0.0, 0.0, 0.0, 0.0,...  "
      ]
     },
     "execution_count": 15,
     "metadata": {},
     "output_type": "execute_result"
    }
   ],
   "source": [
    "df.head(5)"
   ]
  },
  {
   "cell_type": "code",
   "execution_count": 295,
   "metadata": {},
   "outputs": [
    {
     "data": {
      "text/html": [
       "<div>\n",
       "<style scoped>\n",
       "    .dataframe tbody tr th:only-of-type {\n",
       "        vertical-align: middle;\n",
       "    }\n",
       "\n",
       "    .dataframe tbody tr th {\n",
       "        vertical-align: top;\n",
       "    }\n",
       "\n",
       "    .dataframe thead th {\n",
       "        text-align: right;\n",
       "    }\n",
       "</style>\n",
       "<table border=\"1\" class=\"dataframe\">\n",
       "  <thead>\n",
       "    <tr style=\"text-align: right;\">\n",
       "      <th></th>\n",
       "      <th>title</th>\n",
       "      <th>artist</th>\n",
       "      <th>short_file</th>\n",
       "      <th>file</th>\n",
       "      <th>audio</th>\n",
       "    </tr>\n",
       "    <tr>\n",
       "      <th>genre</th>\n",
       "      <th></th>\n",
       "      <th></th>\n",
       "      <th></th>\n",
       "      <th></th>\n",
       "      <th></th>\n",
       "    </tr>\n",
       "  </thead>\n",
       "  <tbody>\n",
       "    <tr>\n",
       "      <th>Acoustic Rock</th>\n",
       "      <td>27</td>\n",
       "      <td>27</td>\n",
       "      <td>27</td>\n",
       "      <td>27</td>\n",
       "      <td>27</td>\n",
       "    </tr>\n",
       "    <tr>\n",
       "      <th>Alternative</th>\n",
       "      <td>39</td>\n",
       "      <td>39</td>\n",
       "      <td>39</td>\n",
       "      <td>39</td>\n",
       "      <td>39</td>\n",
       "    </tr>\n",
       "    <tr>\n",
       "      <th>Alternative Rock</th>\n",
       "      <td>1</td>\n",
       "      <td>1</td>\n",
       "      <td>1</td>\n",
       "      <td>1</td>\n",
       "      <td>1</td>\n",
       "    </tr>\n",
       "    <tr>\n",
       "      <th>Classic Rock</th>\n",
       "      <td>5</td>\n",
       "      <td>5</td>\n",
       "      <td>5</td>\n",
       "      <td>5</td>\n",
       "      <td>5</td>\n",
       "    </tr>\n",
       "    <tr>\n",
       "      <th>Death Metal</th>\n",
       "      <td>8</td>\n",
       "      <td>8</td>\n",
       "      <td>8</td>\n",
       "      <td>8</td>\n",
       "      <td>8</td>\n",
       "    </tr>\n",
       "    <tr>\n",
       "      <th>Disco</th>\n",
       "      <td>10</td>\n",
       "      <td>10</td>\n",
       "      <td>10</td>\n",
       "      <td>10</td>\n",
       "      <td>10</td>\n",
       "    </tr>\n",
       "    <tr>\n",
       "      <th>Hard Rock</th>\n",
       "      <td>28</td>\n",
       "      <td>28</td>\n",
       "      <td>28</td>\n",
       "      <td>28</td>\n",
       "      <td>28</td>\n",
       "    </tr>\n",
       "    <tr>\n",
       "      <th>Heavy Metal</th>\n",
       "      <td>47</td>\n",
       "      <td>47</td>\n",
       "      <td>47</td>\n",
       "      <td>47</td>\n",
       "      <td>47</td>\n",
       "    </tr>\n",
       "    <tr>\n",
       "      <th>Hip-Hop</th>\n",
       "      <td>14</td>\n",
       "      <td>14</td>\n",
       "      <td>14</td>\n",
       "      <td>14</td>\n",
       "      <td>14</td>\n",
       "    </tr>\n",
       "    <tr>\n",
       "      <th>Metal</th>\n",
       "      <td>17</td>\n",
       "      <td>17</td>\n",
       "      <td>17</td>\n",
       "      <td>17</td>\n",
       "      <td>17</td>\n",
       "    </tr>\n",
       "    <tr>\n",
       "      <th>New Wave</th>\n",
       "      <td>9</td>\n",
       "      <td>9</td>\n",
       "      <td>9</td>\n",
       "      <td>9</td>\n",
       "      <td>9</td>\n",
       "    </tr>\n",
       "    <tr>\n",
       "      <th>Post Rock, Experimental</th>\n",
       "      <td>4</td>\n",
       "      <td>4</td>\n",
       "      <td>4</td>\n",
       "      <td>4</td>\n",
       "      <td>4</td>\n",
       "    </tr>\n",
       "    <tr>\n",
       "      <th>Progressive Rock</th>\n",
       "      <td>9</td>\n",
       "      <td>9</td>\n",
       "      <td>9</td>\n",
       "      <td>9</td>\n",
       "      <td>9</td>\n",
       "    </tr>\n",
       "    <tr>\n",
       "      <th>Rock</th>\n",
       "      <td>147</td>\n",
       "      <td>147</td>\n",
       "      <td>147</td>\n",
       "      <td>147</td>\n",
       "      <td>147</td>\n",
       "    </tr>\n",
       "    <tr>\n",
       "      <th>Singer-songwriter, Folk rock</th>\n",
       "      <td>11</td>\n",
       "      <td>11</td>\n",
       "      <td>11</td>\n",
       "      <td>11</td>\n",
       "      <td>11</td>\n",
       "    </tr>\n",
       "    <tr>\n",
       "      <th>Stoner Rock</th>\n",
       "      <td>14</td>\n",
       "      <td>14</td>\n",
       "      <td>14</td>\n",
       "      <td>14</td>\n",
       "      <td>14</td>\n",
       "    </tr>\n",
       "  </tbody>\n",
       "</table>\n",
       "</div>"
      ],
      "text/plain": [
       "                              title  artist  short_file  file  audio\n",
       "genre                                                               \n",
       "Acoustic Rock                    27      27          27    27     27\n",
       "Alternative                      39      39          39    39     39\n",
       "Alternative Rock                  1       1           1     1      1\n",
       "Classic Rock                      5       5           5     5      5\n",
       "Death Metal                       8       8           8     8      8\n",
       "Disco                            10      10          10    10     10\n",
       "Hard Rock                        28      28          28    28     28\n",
       "Heavy Metal                      47      47          47    47     47\n",
       "Hip-Hop                          14      14          14    14     14\n",
       "Metal                            17      17          17    17     17\n",
       "New Wave                          9       9           9     9      9\n",
       "Post Rock, Experimental           4       4           4     4      4\n",
       "Progressive Rock                  9       9           9     9      9\n",
       "Rock                            147     147         147   147    147\n",
       "Singer-songwriter, Folk rock     11      11          11    11     11\n",
       "Stoner Rock                      14      14          14    14     14"
      ]
     },
     "execution_count": 295,
     "metadata": {},
     "output_type": "execute_result"
    }
   ],
   "source": [
    "df.groupby(by='genre').count()"
   ]
  },
  {
   "cell_type": "code",
   "execution_count": 285,
   "metadata": {},
   "outputs": [
    {
     "data": {
      "text/plain": [
       "<module 'prac3.nn' from 'd:\\\\grander-materials\\\\Нейронки\\\\Практики\\\\prac3\\\\nn.py'>"
      ]
     },
     "execution_count": 285,
     "metadata": {},
     "output_type": "execute_result"
    }
   ],
   "source": [
    "import prac3.nn\n",
    "import importlib\n",
    "importlib.reload(prac3.nn)"
   ]
  },
  {
   "cell_type": "code",
   "execution_count": 286,
   "metadata": {},
   "outputs": [],
   "source": [
    "from prac3.nn import StupidNeuralNetwork, Dataset as Dataset"
   ]
  },
  {
   "cell_type": "code",
   "execution_count": 287,
   "metadata": {},
   "outputs": [],
   "source": [
    "dataset = Dataset()\n",
    "dataset.normalize_data(df)\n",
    "dataset.prepare_dataset(df)"
   ]
  },
  {
   "cell_type": "code",
   "execution_count": 288,
   "metadata": {},
   "outputs": [
    {
     "name": "stdout",
     "output_type": "stream",
     "text": [
      "Эпоха: 1/50\n"
     ]
    },
    {
     "name": "stderr",
     "output_type": "stream",
     "text": [
      "d:\\grander-materials\\Нейронки\\Практики\\prac3\\nn.py:31: RuntimeWarning: overflow encountered in exp\n",
      "  'sigmoid': lambda x: 1 / (1 + np.exp(-x)),\n"
     ]
    },
    {
     "name": "stdout",
     "output_type": "stream",
     "text": [
      "Ошибка: 0.06049679487179487\n",
      "Точность: 47.81650641025641%\n",
      "Эпоха: 2/50\n",
      "Ошибка: 0.06229967948717949\n",
      "Точность: 47.81650641025641%\n",
      "Эпоха: 3/50\n",
      "Ошибка: 0.06229967948717949\n",
      "Точность: 47.81650641025641%\n",
      "Эпоха: 4/50\n"
     ]
    },
    {
     "ename": "KeyboardInterrupt",
     "evalue": "",
     "output_type": "error",
     "traceback": [
      "\u001b[1;31m---------------------------------------------------------------------------\u001b[0m",
      "\u001b[1;31mKeyboardInterrupt\u001b[0m                         Traceback (most recent call last)",
      "Cell \u001b[1;32mIn[288], line 2\u001b[0m\n\u001b[0;32m      1\u001b[0m nn \u001b[38;5;241m=\u001b[39m StupidNeuralNetwork(epochs\u001b[38;5;241m=\u001b[39m\u001b[38;5;241m50\u001b[39m, batch_size\u001b[38;5;241m=\u001b[39m\u001b[38;5;241m4\u001b[39m)\n\u001b[1;32m----> 2\u001b[0m \u001b[43mnn\u001b[49m\u001b[38;5;241;43m.\u001b[39;49m\u001b[43mtrain\u001b[49m\u001b[43m(\u001b[49m\u001b[43mdataset\u001b[49m\u001b[38;5;241;43m.\u001b[39;49m\u001b[43mtrain_data\u001b[49m\u001b[43m,\u001b[49m\u001b[43m \u001b[49m\u001b[43mdataset\u001b[49m\u001b[38;5;241;43m.\u001b[39;49m\u001b[43mtrain_target\u001b[49m\u001b[43m)\u001b[49m\n\u001b[0;32m      3\u001b[0m nn\u001b[38;5;241m.\u001b[39mtest(dataset\u001b[38;5;241m.\u001b[39mtest_data, dataset\u001b[38;5;241m.\u001b[39mtest_target)\n",
      "File \u001b[1;32md:\\grander-materials\\Нейронки\\Практики\\prac3\\nn.py:106\u001b[0m, in \u001b[0;36mStupidNeuralNetwork.train\u001b[1;34m(self, dataset, target)\u001b[0m\n\u001b[0;32m    103\u001b[0m     loss \u001b[38;5;241m=\u001b[39m \u001b[38;5;241m0.5\u001b[39m \u001b[38;5;241m*\u001b[39m (np\u001b[38;5;241m.\u001b[39msquare(y_batch\u001b[38;5;241m.\u001b[39mtoarray() \u001b[38;5;241m-\u001b[39m result))\u001b[38;5;241m.\u001b[39mmean()\n\u001b[0;32m    104\u001b[0m     epoch_loss\u001b[38;5;241m.\u001b[39mappend(loss)\n\u001b[1;32m--> 106\u001b[0m     \u001b[38;5;28;43mself\u001b[39;49m\u001b[38;5;241;43m.\u001b[39;49m\u001b[43mbackward\u001b[49m\u001b[43m(\u001b[49m\u001b[43my_batch\u001b[49m\u001b[43m,\u001b[49m\u001b[43m \u001b[49m\u001b[43mresult\u001b[49m\u001b[43m)\u001b[49m\n\u001b[0;32m    108\u001b[0m avg_loss \u001b[38;5;241m=\u001b[39m np\u001b[38;5;241m.\u001b[39mmean(epoch_loss)\n\u001b[0;32m    109\u001b[0m \u001b[38;5;28mprint\u001b[39m(\u001b[38;5;124mf\u001b[39m\u001b[38;5;124m'\u001b[39m\u001b[38;5;124mОшибка: \u001b[39m\u001b[38;5;132;01m{\u001b[39;00mavg_loss\u001b[38;5;132;01m}\u001b[39;00m\u001b[38;5;124m'\u001b[39m)\n",
      "File \u001b[1;32md:\\grander-materials\\Нейронки\\Практики\\prac3\\nn.py:83\u001b[0m, in \u001b[0;36mStupidNeuralNetwork.backward\u001b[1;34m(self, target, result)\u001b[0m\n\u001b[0;32m     80\u001b[0m     loss_deriv \u001b[38;5;241m=\u001b[39m layer\u001b[38;5;241m.\u001b[39mback_prop(loss_deriv)\n\u001b[0;32m     82\u001b[0m \u001b[38;5;28;01mfor\u001b[39;00m layer \u001b[38;5;129;01min\u001b[39;00m \u001b[38;5;28mself\u001b[39m\u001b[38;5;241m.\u001b[39mlayers:\n\u001b[1;32m---> 83\u001b[0m     \u001b[43mlayer\u001b[49m\u001b[38;5;241;43m.\u001b[39;49m\u001b[43mcalculate_weights\u001b[49m\u001b[43m(\u001b[49m\u001b[43m)\u001b[49m\n",
      "File \u001b[1;32md:\\grander-materials\\Нейронки\\Практики\\prac3\\nn.py:57\u001b[0m, in \u001b[0;36mStupidLayer.calculate_weights\u001b[1;34m(self)\u001b[0m\n\u001b[0;32m     55\u001b[0m \u001b[38;5;28;01mdef\u001b[39;00m \u001b[38;5;21mcalculate_weights\u001b[39m(\u001b[38;5;28mself\u001b[39m):\n\u001b[0;32m     56\u001b[0m     \u001b[38;5;28mself\u001b[39m\u001b[38;5;241m.\u001b[39mweights \u001b[38;5;241m-\u001b[39m\u001b[38;5;241m=\u001b[39m \u001b[38;5;28mself\u001b[39m\u001b[38;5;241m.\u001b[39mlr \u001b[38;5;241m*\u001b[39m \u001b[38;5;28mself\u001b[39m\u001b[38;5;241m.\u001b[39minput\u001b[38;5;241m.\u001b[39mT \u001b[38;5;241m@\u001b[39m \u001b[38;5;28mself\u001b[39m\u001b[38;5;241m.\u001b[39mdelta\n\u001b[1;32m---> 57\u001b[0m     \u001b[38;5;28mself\u001b[39m\u001b[38;5;241m.\u001b[39mb \u001b[38;5;241m-\u001b[39m\u001b[38;5;241m=\u001b[39m \u001b[38;5;28mself\u001b[39m\u001b[38;5;241m.\u001b[39mlr \u001b[38;5;241m*\u001b[39m \u001b[38;5;28;43mself\u001b[39;49m\u001b[38;5;241;43m.\u001b[39;49m\u001b[43mdelta\u001b[49m\u001b[38;5;241;43m.\u001b[39;49m\u001b[43msum\u001b[49m\u001b[43m(\u001b[49m\u001b[43maxis\u001b[49m\u001b[38;5;241;43m=\u001b[39;49m\u001b[38;5;241;43m0\u001b[39;49m\u001b[43m)\u001b[49m\n",
      "File \u001b[1;32md:\\grander-materials\\.venv\\Lib\\site-packages\\numpy\\matrixlib\\defmatrix.py:320\u001b[0m, in \u001b[0;36mmatrix.sum\u001b[1;34m(self, axis, dtype, out)\u001b[0m\n\u001b[0;32m    288\u001b[0m \u001b[38;5;28;01mdef\u001b[39;00m \u001b[38;5;21msum\u001b[39m(\u001b[38;5;28mself\u001b[39m, axis\u001b[38;5;241m=\u001b[39m\u001b[38;5;28;01mNone\u001b[39;00m, dtype\u001b[38;5;241m=\u001b[39m\u001b[38;5;28;01mNone\u001b[39;00m, out\u001b[38;5;241m=\u001b[39m\u001b[38;5;28;01mNone\u001b[39;00m):\n\u001b[0;32m    289\u001b[0m \u001b[38;5;250m    \u001b[39m\u001b[38;5;124;03m\"\"\"\u001b[39;00m\n\u001b[0;32m    290\u001b[0m \u001b[38;5;124;03m    Returns the sum of the matrix elements, along the given axis.\u001b[39;00m\n\u001b[0;32m    291\u001b[0m \n\u001b[1;32m   (...)\u001b[0m\n\u001b[0;32m    318\u001b[0m \n\u001b[0;32m    319\u001b[0m \u001b[38;5;124;03m    \"\"\"\u001b[39;00m\n\u001b[1;32m--> 320\u001b[0m     \u001b[38;5;28;01mreturn\u001b[39;00m \u001b[43mN\u001b[49m\u001b[38;5;241;43m.\u001b[39;49m\u001b[43mndarray\u001b[49m\u001b[38;5;241;43m.\u001b[39;49m\u001b[43msum\u001b[49m\u001b[43m(\u001b[49m\u001b[38;5;28;43mself\u001b[39;49m\u001b[43m,\u001b[49m\u001b[43m \u001b[49m\u001b[43maxis\u001b[49m\u001b[43m,\u001b[49m\u001b[43m \u001b[49m\u001b[43mdtype\u001b[49m\u001b[43m,\u001b[49m\u001b[43m \u001b[49m\u001b[43mout\u001b[49m\u001b[43m,\u001b[49m\u001b[43m \u001b[49m\u001b[43mkeepdims\u001b[49m\u001b[38;5;241;43m=\u001b[39;49m\u001b[38;5;28;43;01mTrue\u001b[39;49;00m\u001b[43m)\u001b[49m\u001b[38;5;241m.\u001b[39m_collapse(axis)\n",
      "File \u001b[1;32md:\\grander-materials\\.venv\\Lib\\site-packages\\numpy\\core\\_methods.py:47\u001b[0m, in \u001b[0;36m_sum\u001b[1;34m(a, axis, dtype, out, keepdims, initial, where)\u001b[0m\n\u001b[0;32m     43\u001b[0m \u001b[38;5;28;01mdef\u001b[39;00m \u001b[38;5;21m_amin\u001b[39m(a, axis\u001b[38;5;241m=\u001b[39m\u001b[38;5;28;01mNone\u001b[39;00m, out\u001b[38;5;241m=\u001b[39m\u001b[38;5;28;01mNone\u001b[39;00m, keepdims\u001b[38;5;241m=\u001b[39m\u001b[38;5;28;01mFalse\u001b[39;00m,\n\u001b[0;32m     44\u001b[0m           initial\u001b[38;5;241m=\u001b[39m_NoValue, where\u001b[38;5;241m=\u001b[39m\u001b[38;5;28;01mTrue\u001b[39;00m):\n\u001b[0;32m     45\u001b[0m     \u001b[38;5;28;01mreturn\u001b[39;00m umr_minimum(a, axis, \u001b[38;5;28;01mNone\u001b[39;00m, out, keepdims, initial, where)\n\u001b[1;32m---> 47\u001b[0m \u001b[38;5;28;01mdef\u001b[39;00m \u001b[38;5;21m_sum\u001b[39m(a, axis\u001b[38;5;241m=\u001b[39m\u001b[38;5;28;01mNone\u001b[39;00m, dtype\u001b[38;5;241m=\u001b[39m\u001b[38;5;28;01mNone\u001b[39;00m, out\u001b[38;5;241m=\u001b[39m\u001b[38;5;28;01mNone\u001b[39;00m, keepdims\u001b[38;5;241m=\u001b[39m\u001b[38;5;28;01mFalse\u001b[39;00m,\n\u001b[0;32m     48\u001b[0m          initial\u001b[38;5;241m=\u001b[39m_NoValue, where\u001b[38;5;241m=\u001b[39m\u001b[38;5;28;01mTrue\u001b[39;00m):\n\u001b[0;32m     49\u001b[0m     \u001b[38;5;28;01mreturn\u001b[39;00m umr_sum(a, axis, dtype, out, keepdims, initial, where)\n\u001b[0;32m     51\u001b[0m \u001b[38;5;28;01mdef\u001b[39;00m \u001b[38;5;21m_prod\u001b[39m(a, axis\u001b[38;5;241m=\u001b[39m\u001b[38;5;28;01mNone\u001b[39;00m, dtype\u001b[38;5;241m=\u001b[39m\u001b[38;5;28;01mNone\u001b[39;00m, out\u001b[38;5;241m=\u001b[39m\u001b[38;5;28;01mNone\u001b[39;00m, keepdims\u001b[38;5;241m=\u001b[39m\u001b[38;5;28;01mFalse\u001b[39;00m,\n\u001b[0;32m     52\u001b[0m           initial\u001b[38;5;241m=\u001b[39m_NoValue, where\u001b[38;5;241m=\u001b[39m\u001b[38;5;28;01mTrue\u001b[39;00m):\n",
      "\u001b[1;31mKeyboardInterrupt\u001b[0m: "
     ]
    }
   ],
   "source": [
    "nn = StupidNeuralNetwork(epochs=50, batch_size=4)\n",
    "nn.train(dataset.train_data, dataset.train_target)\n",
    "nn.test(dataset.test_data, dataset.test_target)"
   ]
  },
  {
   "cell_type": "code",
   "execution_count": 289,
   "metadata": {},
   "outputs": [
    {
     "name": "stderr",
     "output_type": "stream",
     "text": [
      "d:\\grander-materials\\Нейронки\\Практики\\prac3\\nn.py:31: RuntimeWarning: overflow encountered in exp\n",
      "  'sigmoid': lambda x: 1 / (1 + np.exp(-x)),\n"
     ]
    },
    {
     "data": {
      "text/plain": [
       "array([[0, 0, 1, ..., 0, 1, 0],\n",
       "       [0, 0, 1, ..., 0, 1, 0],\n",
       "       [0, 0, 1, ..., 0, 1, 0],\n",
       "       ...,\n",
       "       [0, 0, 1, ..., 0, 1, 0],\n",
       "       [0, 0, 1, ..., 0, 1, 0],\n",
       "       [0, 0, 1, ..., 0, 1, 0]], dtype=int8)"
      ]
     },
     "execution_count": 289,
     "metadata": {},
     "output_type": "execute_result"
    }
   ],
   "source": [
    "res = nn.fit(dataset.test_data)\n",
    "res"
   ]
  },
  {
   "cell_type": "code",
   "execution_count": 290,
   "metadata": {},
   "outputs": [],
   "source": [
    "enc = OneHotEncoder()\n",
    "enc = enc.fit(df.loc[:, ['genre']])"
   ]
  },
  {
   "cell_type": "code",
   "execution_count": 294,
   "metadata": {},
   "outputs": [
    {
     "data": {
      "text/plain": [
       "array([['Alternative Rock'],\n",
       "       ['Alternative Rock'],\n",
       "       ['Alternative Rock'],\n",
       "       ['Alternative Rock'],\n",
       "       ['Alternative Rock'],\n",
       "       ['Alternative Rock'],\n",
       "       ['Alternative Rock'],\n",
       "       ['Alternative Rock'],\n",
       "       ['Alternative Rock'],\n",
       "       ['Alternative Rock'],\n",
       "       ['Alternative Rock'],\n",
       "       ['Alternative Rock'],\n",
       "       ['Alternative Rock'],\n",
       "       ['Alternative Rock'],\n",
       "       ['Alternative Rock'],\n",
       "       ['Alternative Rock'],\n",
       "       ['Alternative Rock'],\n",
       "       ['Alternative Rock'],\n",
       "       ['Alternative Rock'],\n",
       "       ['Alternative Rock'],\n",
       "       ['Alternative Rock'],\n",
       "       ['Alternative Rock'],\n",
       "       ['Alternative Rock'],\n",
       "       ['Alternative Rock'],\n",
       "       ['Alternative Rock'],\n",
       "       ['Alternative Rock'],\n",
       "       ['Alternative Rock'],\n",
       "       ['Alternative Rock'],\n",
       "       ['Alternative Rock'],\n",
       "       ['Alternative Rock'],\n",
       "       ['Alternative Rock'],\n",
       "       ['Alternative Rock'],\n",
       "       ['Alternative Rock'],\n",
       "       ['Alternative Rock'],\n",
       "       ['Alternative Rock'],\n",
       "       ['Alternative Rock'],\n",
       "       ['Alternative Rock'],\n",
       "       ['Alternative Rock'],\n",
       "       ['Alternative Rock'],\n",
       "       ['Alternative Rock'],\n",
       "       ['Alternative Rock'],\n",
       "       ['Alternative Rock'],\n",
       "       ['Alternative Rock'],\n",
       "       ['Alternative Rock'],\n",
       "       ['Alternative Rock'],\n",
       "       ['Alternative Rock'],\n",
       "       ['Alternative Rock'],\n",
       "       ['Alternative Rock'],\n",
       "       ['Alternative Rock'],\n",
       "       ['Alternative Rock'],\n",
       "       ['Alternative Rock'],\n",
       "       ['Alternative Rock'],\n",
       "       ['Alternative Rock'],\n",
       "       ['Alternative Rock'],\n",
       "       ['Alternative Rock'],\n",
       "       ['Alternative Rock'],\n",
       "       ['Death Metal'],\n",
       "       ['Alternative Rock'],\n",
       "       ['Alternative Rock'],\n",
       "       ['Alternative Rock'],\n",
       "       ['Alternative Rock'],\n",
       "       ['Alternative Rock'],\n",
       "       ['Alternative Rock'],\n",
       "       ['Alternative Rock'],\n",
       "       ['Alternative Rock'],\n",
       "       ['Alternative Rock'],\n",
       "       ['Alternative Rock'],\n",
       "       ['Alternative Rock'],\n",
       "       ['Alternative Rock'],\n",
       "       ['Alternative Rock'],\n",
       "       ['Alternative Rock'],\n",
       "       ['Alternative Rock'],\n",
       "       ['Alternative Rock'],\n",
       "       ['Alternative Rock'],\n",
       "       ['Alternative Rock'],\n",
       "       ['Alternative Rock'],\n",
       "       ['Alternative Rock'],\n",
       "       ['Alternative Rock']], dtype=object)"
      ]
     },
     "execution_count": 294,
     "metadata": {},
     "output_type": "execute_result"
    }
   ],
   "source": [
    "res"
   ]
  },
  {
   "cell_type": "code",
   "execution_count": null,
   "metadata": {},
   "outputs": [],
   "source": [
    "class SOM:\n",
    "    def __init__(self, map_size, input_size, sigma=0.3, learning_rate=0.5):\n",
    "        self.map_size = map_size\n",
    "        self.input_size = input_size\n",
    "        self.sigma = sigma\n",
    "        self.learning_rate = learning_rate\n",
    "        self.weights = np.random.rand(map_size[0], map_size[1], input_size)\n",
    "\n",
    "    def find_bmu(self, x):\n",
    "        \"\"\" Найти лучший соответствующий узел (BMU) \"\"\"\n",
    "        distances = np.linalg.norm(self.weights - x, axis=2)\n",
    "        return np.unravel_index(np.argmin(distances), distances.shape)\n",
    "\n",
    "    def neighborhood_function(self, bmu, iteration, max_iterations):\n",
    "        \"\"\" Функция соседства \"\"\"\n",
    "        t1 = 1000\n",
    "        t2 = 1000\n",
    "        sigma_t = self.sigma * np.exp(-iteration / t1)\n",
    "        learning_rate_t = self.learning_rate * np.exp(-iteration / t2)\n",
    "        dist_sq = np.sum((np.indices(self.map_size).T - np.array(bmu)).T ** 2, axis=0)\n",
    "        return learning_rate_t * np.exp(-dist_sq / (2 * sigma_t ** 2))\n",
    "\n",
    "    def train(self, data, iterations):\n",
    "        \"\"\" Обучение SOM \"\"\"\n",
    "        for iteration in tqdm(range(iterations)):\n",
    "            for x in data:\n",
    "                bmu = self.find_bmu(x)\n",
    "                nh_func = self.neighborhood_function(bmu, iteration, iterations)\n",
    "                self.weights += nh_func[:, :, np.newaxis] * (x - self.weights)\n",
    "\n",
    "    def visualize(self, data):\n",
    "        \"\"\" Визуализация SOM \"\"\"\n",
    "        plt.figure(figsize=(7, 7))\n",
    "        plt.pcolor(np.linalg.norm(self.weights, axis=2).T, cmap='bone_r', alpha=0.2)\n",
    "        plt.colorbar()\n",
    "\n",
    "        for x in data:\n",
    "            bmu = self.find_bmu(x)\n",
    "            plt.text(bmu[1] + 0.5, bmu[0] + 0.5, '.', color=plt.cm.Reds(x[0]), fontdict={'weight': 'bold', 'size': 11})\n",
    "\n",
    "        plt.show()\n",
    "\n",
    "# Загрузка и обработка аудиофайлов\n",
    "def load_audio_features(file_paths):\n",
    "    features = []\n",
    "    for file_path in tqdm(file_paths):\n",
    "        y, sr = librosa.load(file_path, sr=None)\n",
    "        mfcc = librosa.feature.mfcc(y=y, sr=sr, n_mfcc=13)\n",
    "        features.append(mfcc.T.flatten())\n",
    "    return features"
   ]
  },
  {
   "cell_type": "code",
   "execution_count": null,
   "metadata": {},
   "outputs": [
    {
     "name": "stderr",
     "output_type": "stream",
     "text": [
      "100%|██████████| 10/10 [00:14<00:00,  1.41s/it]"
     ]
    },
    {
     "name": "stdout",
     "output_type": "stream",
     "text": [
      "[(732160,), (732160,), (732160,), (732160,), (732160,), (732160,), (732160,), (732160,), (732160,), (732160,)]\n"
     ]
    },
    {
     "name": "stderr",
     "output_type": "stream",
     "text": [
      "\n"
     ]
    }
   ],
   "source": [
    "flattened_features = load_audio_features(music_files[:10])\n",
    "\n",
    "\n",
    "min_length = min([len(f) for f in flattened_features])\n",
    "flattened_features = [f[:min_length] for f in flattened_features]\n",
    "# max_length = max([len(f) for f in flattened_features])\n",
    "# flattened_features = [np.pad(f, (0, max_length - len(f)), 'constant') for f in flattened_features]\n",
    "data = np.array(flattened_features)"
   ]
  },
  {
   "cell_type": "code",
   "execution_count": 12,
   "metadata": {},
   "outputs": [
    {
     "name": "stderr",
     "output_type": "stream",
     "text": [
      "100%|██████████| 100/100 [11:54<00:00,  7.14s/it]\n"
     ]
    },
    {
     "data": {
      "image/png": "[encoded data removed]",
      "text/plain": [
       "<Figure size 700x700 with 2 Axes>"
      ]
     },
     "metadata": {},
     "output_type": "display_data"
    }
   ],
   "source": [
    "# Инициализация SOM\n",
    "map_size = (10, 10)  # Размер карты (10x10)\n",
    "input_size = data.shape[1]\n",
    "som = SOM(map_size, input_size, sigma=0.3, learning_rate=0.5)\n",
    "\n",
    "# Обучение SOM\n",
    "som.train(data, 100)  # Обучение на 100 итераций\n",
    "\n",
    "# Визуализация результатов\n",
    "som.visualize(data)"
   ]
  }
 ],
 "metadata": {
  "kernelspec": {
   "display_name": ".venv",
   "language": "python",
   "name": "python3"
  },
  "language_info": {
   "codemirror_mode": {
    "name": "ipython",
    "version": 3
   },
   "file_extension": ".py",
   "mimetype": "text/x-python",
   "name": "python",
   "nbconvert_exporter": "python",
   "pygments_lexer": "ipython3",
   "version": "3.12.7"
  }
 },
 "nbformat": 4,
 "nbformat_minor": 2
}
