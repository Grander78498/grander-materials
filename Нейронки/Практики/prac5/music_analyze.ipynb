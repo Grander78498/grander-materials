{
 "cells": [
  {
   "cell_type": "code",
   "execution_count": 1,
   "metadata": {},
   "outputs": [],
   "source": [
    "from mutagen.flac import FLAC"
   ]
  },
  {
   "cell_type": "code",
   "execution_count": 2,
   "metadata": {},
   "outputs": [],
   "source": [
    "import os\n",
    "music_directory = '/home/grander/music_dataset'\n",
    "\n",
    "music_files = []\n",
    "for root, dirs, files in os.walk(music_directory):\n",
    "    for file in files:\n",
    "            if file.endswith('.flac'):\n",
    "                  music_files.append(os.path.join(music_directory, file))"
   ]
  },
  {
   "cell_type": "code",
   "execution_count": 3,
   "metadata": {},
   "outputs": [
    {
     "data": {
      "text/plain": [
       "509"
      ]
     },
     "execution_count": 3,
     "metadata": {},
     "output_type": "execute_result"
    }
   ],
   "source": [
    "len(music_files)"
   ]
  },
  {
   "cell_type": "code",
   "execution_count": 4,
   "metadata": {},
   "outputs": [],
   "source": [
    "import pandas as pd\n",
    "import numpy as np"
   ]
  },
  {
   "cell_type": "code",
   "execution_count": null,
   "metadata": {},
   "outputs": [
    {
     "data": {
      "text/html": [
       "<div>\n",
       "<style scoped>\n",
       "    .dataframe tbody tr th:only-of-type {\n",
       "        vertical-align: middle;\n",
       "    }\n",
       "\n",
       "    .dataframe tbody tr th {\n",
       "        vertical-align: top;\n",
       "    }\n",
       "\n",
       "    .dataframe thead th {\n",
       "        text-align: right;\n",
       "    }\n",
       "</style>\n",
       "<table border=\"1\" class=\"dataframe\">\n",
       "  <thead>\n",
       "    <tr style=\"text-align: right;\">\n",
       "      <th></th>\n",
       "      <th>title</th>\n",
       "      <th>genre</th>\n",
       "      <th>artist</th>\n",
       "      <th>file</th>\n",
       "    </tr>\n",
       "  </thead>\n",
       "  <tbody>\n",
       "    <tr>\n",
       "      <th>0</th>\n",
       "      <td>1.01. 15 Step</td>\n",
       "      <td>Unknown</td>\n",
       "      <td>Unknown</td>\n",
       "      <td>1.01. 15 Step</td>\n",
       "    </tr>\n",
       "    <tr>\n",
       "      <th>1</th>\n",
       "      <td>05 - You Gotta Move</td>\n",
       "      <td>Unknown</td>\n",
       "      <td>Unknown</td>\n",
       "      <td>05 - You Gotta Move</td>\n",
       "    </tr>\n",
       "    <tr>\n",
       "      <th>2</th>\n",
       "      <td>103 Loving Sunday Morning</td>\n",
       "      <td>Unknown</td>\n",
       "      <td>Unknown</td>\n",
       "      <td>103 Loving Sunday Morning</td>\n",
       "    </tr>\n",
       "    <tr>\n",
       "      <th>3</th>\n",
       "      <td>13-Princess of Egypt</td>\n",
       "      <td>Unknown</td>\n",
       "      <td>Unknown</td>\n",
       "      <td>13-Princess of Egypt</td>\n",
       "    </tr>\n",
       "    <tr>\n",
       "      <th>4</th>\n",
       "      <td>12. Thief in the Night</td>\n",
       "      <td>Unknown</td>\n",
       "      <td>Unknown</td>\n",
       "      <td>12. Thief in the Night</td>\n",
       "    </tr>\n",
       "    <tr>\n",
       "      <th>5</th>\n",
       "      <td>Butter</td>\n",
       "      <td>Hip-Hop</td>\n",
       "      <td>A Tribe Called Quest</td>\n",
       "      <td>04_Butter</td>\n",
       "    </tr>\n",
       "    <tr>\n",
       "      <th>6</th>\n",
       "      <td>The Drapery Falls</td>\n",
       "      <td>Death Metal</td>\n",
       "      <td>Opeth</td>\n",
       "      <td>4 - The Drapery Falls</td>\n",
       "    </tr>\n",
       "    <tr>\n",
       "      <th>7</th>\n",
       "      <td>09 Mayonaise</td>\n",
       "      <td>Alternative</td>\n",
       "      <td>Smashing Pumpkins</td>\n",
       "      <td>09 Mayonaise</td>\n",
       "    </tr>\n",
       "    <tr>\n",
       "      <th>8</th>\n",
       "      <td>Don't Believe Her</td>\n",
       "      <td>Hard Rock</td>\n",
       "      <td>Scorpions</td>\n",
       "      <td>02 - Don't Believe Her</td>\n",
       "    </tr>\n",
       "    <tr>\n",
       "      <th>9</th>\n",
       "      <td>I Speed at Night</td>\n",
       "      <td>Unknown</td>\n",
       "      <td>Dio</td>\n",
       "      <td>04.I Speed at Night</td>\n",
       "    </tr>\n",
       "    <tr>\n",
       "      <th>10</th>\n",
       "      <td>Jimmy</td>\n",
       "      <td>Rock</td>\n",
       "      <td>Tool</td>\n",
       "      <td>09 - Jimmy</td>\n",
       "    </tr>\n",
       "    <tr>\n",
       "      <th>11</th>\n",
       "      <td>Pocahontas</td>\n",
       "      <td>Acoustic Rock</td>\n",
       "      <td>Neil Young</td>\n",
       "      <td>Neil Young - Rust Never Sleeps - 04 - Pocahontas</td>\n",
       "    </tr>\n",
       "    <tr>\n",
       "      <th>12</th>\n",
       "      <td>Message to Harry Manback</td>\n",
       "      <td>Rock</td>\n",
       "      <td>Tool</td>\n",
       "      <td>06 - Message to Harry Manback</td>\n",
       "    </tr>\n",
       "    <tr>\n",
       "      <th>13</th>\n",
       "      <td>I Can't Get Enough</td>\n",
       "      <td>Rock</td>\n",
       "      <td>Scorpions</td>\n",
       "      <td>113 I Can't Get Enough</td>\n",
       "    </tr>\n",
       "    <tr>\n",
       "      <th>14</th>\n",
       "      <td>Coast To Coast</td>\n",
       "      <td>Rock</td>\n",
       "      <td>Scorpions</td>\n",
       "      <td>106 Coast To Coast</td>\n",
       "    </tr>\n",
       "  </tbody>\n",
       "</table>\n",
       "</div>"
      ],
      "text/plain": [
       "                        title          genre                artist  \\\n",
       "0               1.01. 15 Step        Unknown               Unknown   \n",
       "1         05 - You Gotta Move        Unknown               Unknown   \n",
       "2   103 Loving Sunday Morning        Unknown               Unknown   \n",
       "3        13-Princess of Egypt        Unknown               Unknown   \n",
       "4      12. Thief in the Night        Unknown               Unknown   \n",
       "5                      Butter        Hip-Hop  A Tribe Called Quest   \n",
       "6           The Drapery Falls    Death Metal                 Opeth   \n",
       "7                09 Mayonaise    Alternative     Smashing Pumpkins   \n",
       "8           Don't Believe Her      Hard Rock             Scorpions   \n",
       "9            I Speed at Night        Unknown                   Dio   \n",
       "10                      Jimmy           Rock                  Tool   \n",
       "11                 Pocahontas  Acoustic Rock            Neil Young   \n",
       "12   Message to Harry Manback           Rock                  Tool   \n",
       "13         I Can't Get Enough           Rock             Scorpions   \n",
       "14             Coast To Coast           Rock             Scorpions   \n",
       "\n",
       "                                                file  \n",
       "0                                      1.01. 15 Step  \n",
       "1                                05 - You Gotta Move  \n",
       "2                          103 Loving Sunday Morning  \n",
       "3                               13-Princess of Egypt  \n",
       "4                             12. Thief in the Night  \n",
       "5                                          04_Butter  \n",
       "6                              4 - The Drapery Falls  \n",
       "7                                       09 Mayonaise  \n",
       "8                             02 - Don't Believe Her  \n",
       "9                                04.I Speed at Night  \n",
       "10                                        09 - Jimmy  \n",
       "11  Neil Young - Rust Never Sleeps - 04 - Pocahontas  \n",
       "12                     06 - Message to Harry Manback  \n",
       "13                            113 I Can't Get Enough  \n",
       "14                                106 Coast To Coast  "
      ]
     },
     "execution_count": 5,
     "metadata": {},
     "output_type": "execute_result"
    }
   ],
   "source": [
    "df = pd.DataFrame({'title': [FLAC(song).get('title', ['Unknown'])[0] for song in music_files],\n",
    "                    'genre': [FLAC(song).get('genre', ['Unknown'])[0] for song in music_files],\n",
    "                    'artist': [FLAC(song).get('artist', ['Unknown'])[0] for song in music_files],\n",
    "                    'file': [os.path.basename(song).removesuffix('.flac') for song in music_files]})\n",
    "df.loc[df['title'] == 'Unknown', 'title'] = df.loc[df['title'] == 'Unknown', 'file']\n",
    "df.head(15)"
   ]
  },
  {
   "cell_type": "code",
   "execution_count": 6,
   "metadata": {},
   "outputs": [
    {
     "data": {
      "text/plain": [
       "111"
      ]
     },
     "execution_count": 6,
     "metadata": {},
     "output_type": "execute_result"
    }
   ],
   "source": [
    "len(df[df['genre'] == 'Unknown'])"
   ]
  },
  {
   "cell_type": "code",
   "execution_count": 6,
   "metadata": {},
   "outputs": [],
   "source": [
    "import librosa\n",
    "import matplotlib.pyplot as plt\n",
    "import librosa.display\n",
    "from tqdm import tqdm"
   ]
  },
  {
   "cell_type": "code",
   "execution_count": null,
   "metadata": {},
   "outputs": [],
   "source": [
    "class SOM:\n",
    "    def __init__(self, map_size, input_size, sigma=0.3, learning_rate=0.5):\n",
    "        self.map_size = map_size\n",
    "        self.input_size = input_size\n",
    "        self.sigma = sigma\n",
    "        self.learning_rate = learning_rate\n",
    "        self.weights = np.random.rand(map_size[0], map_size[1], input_size)\n",
    "\n",
    "    def find_bmu(self, x):\n",
    "        \"\"\" Найти лучший соответствующий узел (BMU) \"\"\"\n",
    "        distances = np.linalg.norm(self.weights - x, axis=2)\n",
    "        return np.unravel_index(np.argmin(distances), distances.shape)\n",
    "\n",
    "    def neighborhood_function(self, bmu, iteration, max_iterations):\n",
    "        \"\"\" Функция соседства \"\"\"\n",
    "        t1 = 1000\n",
    "        t2 = 1000\n",
    "        sigma_t = self.sigma * np.exp(-iteration / t1)\n",
    "        learning_rate_t = self.learning_rate * np.exp(-iteration / t2)\n",
    "        dist_sq = np.sum((np.indices(self.map_size).T - np.array(bmu)).T ** 2, axis=0)\n",
    "        return learning_rate_t * np.exp(-dist_sq / (2 * sigma_t ** 2))\n",
    "\n",
    "    def train(self, data, iterations):\n",
    "        \"\"\" Обучение SOM \"\"\"\n",
    "        for iteration in tqdm(range(iterations)):\n",
    "            for x in data:\n",
    "                bmu = self.find_bmu(x)\n",
    "                nh_func = self.neighborhood_function(bmu, iteration, iterations)\n",
    "                self.weights += nh_func[:, :, np.newaxis] * (x - self.weights)\n",
    "\n",
    "    def visualize(self, data):\n",
    "        \"\"\" Визуализация SOM \"\"\"\n",
    "        plt.figure(figsize=(7, 7))\n",
    "        plt.pcolor(np.linalg.norm(self.weights, axis=2).T, cmap='bone_r', alpha=0.2)\n",
    "        plt.colorbar()\n",
    "\n",
    "        for x in data:\n",
    "            bmu = self.find_bmu(x)\n",
    "            plt.text(bmu[1] + 0.5, bmu[0] + 0.5, '.', color=plt.cm.Reds(x[0]), fontdict={'weight': 'bold', 'size': 11})\n",
    "\n",
    "        plt.show()\n",
    "\n",
    "# Загрузка и обработка аудиофайлов\n",
    "def load_audio_features(file_paths):\n",
    "    features = []\n",
    "    for file_path in tqdm(file_paths):\n",
    "        y, sr = librosa.load(file_path, sr=None)\n",
    "        mfcc = librosa.feature.mfcc(y=y, sr=sr, n_mfcc=13)\n",
    "        features.append(mfcc.T.flatten())\n",
    "    return features"
   ]
  },
  {
   "cell_type": "code",
   "execution_count": null,
   "metadata": {},
   "outputs": [
    {
     "name": "stderr",
     "output_type": "stream",
     "text": [
      "100%|██████████| 10/10 [00:14<00:00,  1.41s/it]"
     ]
    },
    {
     "name": "stdout",
     "output_type": "stream",
     "text": [
      "[(732160,), (732160,), (732160,), (732160,), (732160,), (732160,), (732160,), (732160,), (732160,), (732160,)]\n"
     ]
    },
    {
     "name": "stderr",
     "output_type": "stream",
     "text": [
      "\n"
     ]
    }
   ],
   "source": [
    "flattened_features = load_audio_features(music_files[:10])\n",
    "\n",
    "\n",
    "min_length = min([len(f) for f in flattened_features])\n",
    "flattened_features = [f[:min_length] for f in flattened_features]\n",
    "# max_length = max([len(f) for f in flattened_features])\n",
    "# flattened_features = [np.pad(f, (0, max_length - len(f)), 'constant') for f in flattened_features]\n",
    "data = np.array(flattened_features)"
   ]
  },
  {
   "cell_type": "code",
   "execution_count": 12,
   "metadata": {},
   "outputs": [
    {
     "name": "stderr",
     "output_type": "stream",
     "text": [
      "100%|██████████| 100/100 [11:54<00:00,  7.14s/it]\n"
     ]
    },
    {
     "data": {
      "image/png": "[encoded data removed]",
      "text/plain": [
       "<Figure size 700x700 with 2 Axes>"
      ]
     },
     "metadata": {},
     "output_type": "display_data"
    }
   ],
   "source": [
    "# Инициализация SOM\n",
    "map_size = (10, 10)  # Размер карты (10x10)\n",
    "input_size = data.shape[1]\n",
    "som = SOM(map_size, input_size, sigma=0.3, learning_rate=0.5)\n",
    "\n",
    "# Обучение SOM\n",
    "som.train(data, 100)  # Обучение на 100 итераций\n",
    "\n",
    "# Визуализация результатов\n",
    "som.visualize(data)"
   ]
  }
 ],
 "metadata": {
  "kernelspec": {
   "display_name": ".venv",
   "language": "python",
   "name": "python3"
  },
  "language_info": {
   "codemirror_mode": {
    "name": "ipython",
    "version": 3
   },
   "file_extension": ".py",
   "mimetype": "text/x-python",
   "name": "python",
   "nbconvert_exporter": "python",
   "pygments_lexer": "ipython3",
   "version": "3.12.7"
  }
 },
 "nbformat": 4,
 "nbformat_minor": 2
}
